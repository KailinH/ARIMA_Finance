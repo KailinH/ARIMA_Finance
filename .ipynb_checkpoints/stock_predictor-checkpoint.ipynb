{
 "cells": [
  {
   "cell_type": "code",
   "execution_count": 1,
   "metadata": {
    "collapsed": true
   },
   "outputs": [],
   "source": [
    "#build a stock price predictor that takes daily trading data over a certain date range as input, \n",
    "#and outputs projected estimates for given query dates. inputs will contain multiple metrics, \n",
    "#such as opening price (Open), highest price the stock traded at (High), how many stocks were traded (Volume) \n",
    "#and closing price adjusted for stock splits and dividends (Adjusted Close); \n",
    "#system predicts the Adjusted Close price.\n",
    "#A training interface that accepts a data range (start_date, end_date) and a list of ticker symbols (e.g. GOOG, AAPL), \n",
    "#and builds a model of stock behavior. Your code should read the desired historical prices from the data source of \n",
    "#your choice.\n",
    "#A query interface that accepts a list of dates and a list of ticker symbols, and outputs the predicted stock prices \n",
    "#for each of those stocks on the given dates. Note that the query dates passed in must be after the training date \n",
    "#range and ticker symbols must be a subset of the ones trained on."
   ]
  },
  {
   "cell_type": "code",
   "execution_count": 311,
   "metadata": {
    "collapsed": false
   },
   "outputs": [
    {
     "name": "stdout",
     "output_type": "stream",
     "text": [
      "Please enter the stock you are interested in: YHOO\n",
      "you entered YHOO\n"
     ]
    }
   ],
   "source": [
    "var = raw_input(\"Please enter the stock you are interested in: \")\n",
    "print \"you entered\", var"
   ]
  },
  {
   "cell_type": "code",
   "execution_count": null,
   "metadata": {
    "collapsed": true
   },
   "outputs": [],
   "source": [
    "print 'So stock price tomorrow will be: '\n",
    "print 'in a week will be: '\n",
    "print 'in a month will be: '\n",
    "#but when it is a month, we predict whether it goes up or down\n",
    "#whether the stock will go up in six months"
   ]
  },
  {
   "cell_type": "code",
   "execution_count": 320,
   "metadata": {
    "collapsed": true
   },
   "outputs": [],
   "source": [
    "import numpy as np\n",
    "import pandas as pd\n",
    "import matplotlib.pyplot as plt\n",
    "import os\n",
    "from pprint import pprint\n",
    "import datetime as dt\n",
    "import matplotlib.dates as mdates\n",
    "# Pretty display for notebooks\n",
    "%matplotlib inline"
   ]
  },
  {
   "cell_type": "code",
   "execution_count": 393,
   "metadata": {
    "collapsed": true
   },
   "outputs": [],
   "source": [
    "from pandas_datareader import data\n",
    "ts = 'MSFT' #ticker symbol\n",
    "start = '2010-01-01'\n",
    "end = '2017-05-05'\n",
    "target_stock = data.DataReader(ts, 'yahoo', start, end)"
   ]
  },
  {
   "cell_type": "code",
   "execution_count": 394,
   "metadata": {
    "collapsed": false
   },
   "outputs": [
    {
     "data": {
      "text/html": [
       "<div>\n",
       "<table border=\"1\" class=\"dataframe\">\n",
       "  <thead>\n",
       "    <tr style=\"text-align: right;\">\n",
       "      <th></th>\n",
       "      <th>Open</th>\n",
       "      <th>High</th>\n",
       "      <th>Low</th>\n",
       "      <th>Close</th>\n",
       "      <th>Volume</th>\n",
       "      <th>Adj Close</th>\n",
       "    </tr>\n",
       "  </thead>\n",
       "  <tbody>\n",
       "    <tr>\n",
       "      <th>count</th>\n",
       "      <td>1848.000000</td>\n",
       "      <td>1848.000000</td>\n",
       "      <td>1848.000000</td>\n",
       "      <td>1848.000000</td>\n",
       "      <td>1.848000e+03</td>\n",
       "      <td>1848.000000</td>\n",
       "    </tr>\n",
       "    <tr>\n",
       "      <th>mean</th>\n",
       "      <td>38.401136</td>\n",
       "      <td>38.726510</td>\n",
       "      <td>38.076023</td>\n",
       "      <td>38.419367</td>\n",
       "      <td>4.472714e+07</td>\n",
       "      <td>35.530167</td>\n",
       "    </tr>\n",
       "    <tr>\n",
       "      <th>std</th>\n",
       "      <td>12.058065</td>\n",
       "      <td>12.128107</td>\n",
       "      <td>11.991148</td>\n",
       "      <td>12.068523</td>\n",
       "      <td>2.425539e+07</td>\n",
       "      <td>13.207774</td>\n",
       "    </tr>\n",
       "    <tr>\n",
       "      <th>min</th>\n",
       "      <td>23.090000</td>\n",
       "      <td>23.320000</td>\n",
       "      <td>22.730000</td>\n",
       "      <td>23.010000</td>\n",
       "      <td>8.409600e+06</td>\n",
       "      <td>19.174388</td>\n",
       "    </tr>\n",
       "    <tr>\n",
       "      <th>25%</th>\n",
       "      <td>27.930000</td>\n",
       "      <td>28.147500</td>\n",
       "      <td>27.750000</td>\n",
       "      <td>27.964999</td>\n",
       "      <td>2.852185e+07</td>\n",
       "      <td>23.995018</td>\n",
       "    </tr>\n",
       "    <tr>\n",
       "      <th>50%</th>\n",
       "      <td>34.414999</td>\n",
       "      <td>34.785000</td>\n",
       "      <td>34.194999</td>\n",
       "      <td>34.470002</td>\n",
       "      <td>3.945610e+07</td>\n",
       "      <td>31.226765</td>\n",
       "    </tr>\n",
       "    <tr>\n",
       "      <th>75%</th>\n",
       "      <td>46.972501</td>\n",
       "      <td>47.497502</td>\n",
       "      <td>46.562501</td>\n",
       "      <td>47.012498</td>\n",
       "      <td>5.415580e+07</td>\n",
       "      <td>44.753907</td>\n",
       "    </tr>\n",
       "    <tr>\n",
       "      <th>max</th>\n",
       "      <td>69.709999</td>\n",
       "      <td>69.709999</td>\n",
       "      <td>69.129997</td>\n",
       "      <td>69.410004</td>\n",
       "      <td>3.193179e+08</td>\n",
       "      <td>69.410004</td>\n",
       "    </tr>\n",
       "  </tbody>\n",
       "</table>\n",
       "</div>"
      ],
      "text/plain": [
       "              Open         High          Low        Close        Volume  \\\n",
       "count  1848.000000  1848.000000  1848.000000  1848.000000  1.848000e+03   \n",
       "mean     38.401136    38.726510    38.076023    38.419367  4.472714e+07   \n",
       "std      12.058065    12.128107    11.991148    12.068523  2.425539e+07   \n",
       "min      23.090000    23.320000    22.730000    23.010000  8.409600e+06   \n",
       "25%      27.930000    28.147500    27.750000    27.964999  2.852185e+07   \n",
       "50%      34.414999    34.785000    34.194999    34.470002  3.945610e+07   \n",
       "75%      46.972501    47.497502    46.562501    47.012498  5.415580e+07   \n",
       "max      69.709999    69.709999    69.129997    69.410004  3.193179e+08   \n",
       "\n",
       "         Adj Close  \n",
       "count  1848.000000  \n",
       "mean     35.530167  \n",
       "std      13.207774  \n",
       "min      19.174388  \n",
       "25%      23.995018  \n",
       "50%      31.226765  \n",
       "75%      44.753907  \n",
       "max      69.410004  "
      ]
     },
     "execution_count": 394,
     "metadata": {},
     "output_type": "execute_result"
    }
   ],
   "source": [
    "#to get statistics of the data set\n",
    "target_stock.describe()"
   ]
  },
  {
   "cell_type": "code",
   "execution_count": 396,
   "metadata": {
    "collapsed": false,
    "scrolled": true
   },
   "outputs": [
    {
     "name": "stdout",
     "output_type": "stream",
     "text": [
      "['Open' 'High' 'Low' 'Close' 'Volume' 'Adj Close']\n",
      "                 Open       High        Low      Close    Volume  Adj Close\n",
      "Date                                                                       \n",
      "2017-05-01  68.680000  69.550003  68.500000  69.410004  31789300  69.410004\n",
      "2017-05-02  69.709999  69.709999  69.129997  69.300003  23519500  69.300003\n",
      "2017-05-03  69.379997  69.379997  68.709999  69.080002  28751500  69.080002\n",
      "2017-05-04  69.029999  69.080002  68.639999  68.809998  21502600  68.809998\n",
      "2017-05-05  68.900002  69.029999  68.489998  69.000000  18882800  69.000000\n"
     ]
    }
   ],
   "source": [
    "print target_stock.columns.values\n",
    "#print target_stock.head(3)\n",
    "print target_stock.tail()"
   ]
  },
  {
   "cell_type": "code",
   "execution_count": 397,
   "metadata": {
    "collapsed": false
   },
   "outputs": [
    {
     "data": {
      "text/plain": [
       "<function matplotlib.pyplot.show>"
      ]
     },
     "execution_count": 397,
     "metadata": {},
     "output_type": "execute_result"
    },
    {
     "data": {
      "image/png": "[encoded data removed]",
      "text/plain": [
       "<matplotlib.figure.Figure at 0x110a19410>"
      ]
     },
     "metadata": {},
     "output_type": "display_data"
    }
   ],
   "source": [
    "#generate plot for overview\n",
    "plt.plot(target_stock['Close'], label=\"close prices\")\n",
    "plt.plot(target_stock['Adj Close'], label=\"adjusted close prices\")\n",
    "plt.ylabel('overview of stock prices')\n",
    "plt.title(ts)\n",
    "plt.legend(bbox_to_anchor=(1.05, 1), loc=2, borderaxespad=0.)\n",
    "plt.show"
   ]
  },
  {
   "cell_type": "code",
   "execution_count": 325,
   "metadata": {
    "collapsed": true
   },
   "outputs": [],
   "source": [
    "def fill_missing_values(df):\n",
    "    df.fillna(method='ffill', inplace=True) #propagate last valid observation forward to next valid backfill\n",
    "    return df\n",
    "def normalize_data(df):\n",
    "    \"\"\"Normalize stock prices so they all start at 1\"\"\"\n",
    "    return df/df.ix[0,:]"
   ]
  },
  {
   "cell_type": "code",
   "execution_count": 413,
   "metadata": {
    "collapsed": false
   },
   "outputs": [],
   "source": [
    "target_stock = fill_missing_values(target_stock)\n",
    "#normalized_stock = normalize_data(target_stock)"
   ]
  },
  {
   "cell_type": "code",
   "execution_count": 414,
   "metadata": {
    "collapsed": true
   },
   "outputs": [],
   "source": [
    "#seperate data into features and target\n",
    "X = normalize_data(target_stock[['Open', 'High', 'Low', 'Close', 'Volume']])\n",
    "y = target_stock['Adj Close']"
   ]
  },
  {
   "cell_type": "code",
   "execution_count": 415,
   "metadata": {
    "collapsed": false
   },
   "outputs": [
    {
     "name": "stdout",
     "output_type": "stream",
     "text": [
      "average error: 0.0154899805103\n"
     ]
    }
   ],
   "source": [
    "#most naive benchmark, 5 days rolling mean\n",
    "y_pred = []\n",
    "k = 5\n",
    "for i in range(k+1, len(X)):\n",
    "    rm = target_stock.iloc[:i]['Adj Close'].rolling(window=k, center=False).mean()\n",
    "    x = rm.iloc[-1]\n",
    "    y_pred.append(x)\n",
    "    y_true = list(y[k+1:])\n",
    "assert len(y_true)==len(y_pred)\n",
    "error = [float('{0:.3g}'.format(np.absolute(i-j)/i)) for (i, j) in zip(y_true,y_pred)]\n",
    "print 'average error:', np.mean(error)"
   ]
  },
  {
   "cell_type": "code",
   "execution_count": 416,
   "metadata": {
    "collapsed": false
   },
   "outputs": [
    {
     "data": {
      "text/plain": [
       "<function matplotlib.pyplot.show>"
      ]
     },
     "execution_count": 416,
     "metadata": {},
     "output_type": "execute_result"
    },
    {
     "data": {
      "image/png": "[encoded data removed]",
      "text/plain": [
       "<matplotlib.figure.Figure at 0x1110e6250>"
      ]
     },
     "metadata": {},
     "output_type": "display_data"
    }
   ],
   "source": [
    "#generate plot for comparison\n",
    "plt.subplot(211)\n",
    "plt.plot(y_true, label=\"true prices\")\n",
    "plt.plot(y_pred, label=\"predicted prices\")\n",
    "plt.ylabel('true/prediction comparison')\n",
    "plt.title(ts)\n",
    "plt.legend(bbox_to_anchor=(1.05, 1), loc=2, borderaxespad=0.)\n",
    "\n",
    "plt.subplot(212)\n",
    "plt.plot([e*100 for e in error], label=\"error percentage\")\n",
    "plt.plot([np.mean(error)*100] * len(error), label=\"average error percentage\")\n",
    "plt.legend(bbox_to_anchor=(1.05, 1), loc=2, borderaxespad=0.)\n",
    "plt.show"
   ]
  },
  {
   "cell_type": "code",
   "execution_count": 417,
   "metadata": {
    "collapsed": false
   },
   "outputs": [
    {
     "name": "stdout",
     "output_type": "stream",
     "text": [
      "average error: 0.0154899805103\n"
     ]
    }
   ],
   "source": [
    "#train a naive knn classifier\n",
    "from sklearn.neighbors import KNeighborsRegressor\n",
    "neigh = KNeighborsRegressor(n_neighbors=5)\n",
    "neigh.fit(X, y)\n",
    "y_true = list(y[k+1:])\n",
    "assert len(y_true)==len(y_pred)\n",
    "error = [float('{0:.3g}'.format(np.absolute(i-j)/i)) for (i, j) in zip(y_true,y_pred)]\n",
    "print 'average error:', np.mean(error)"
   ]
  },
  {
   "cell_type": "code",
   "execution_count": 331,
   "metadata": {
    "collapsed": false
   },
   "outputs": [
    {
     "name": "stdout",
     "output_type": "stream",
     "text": [
      "1249 1249\n"
     ]
    }
   ],
   "source": [
    "print len(X), len(y)"
   ]
  },
  {
   "cell_type": "code",
   "execution_count": 418,
   "metadata": {
    "collapsed": false
   },
   "outputs": [],
   "source": [
    "#generate prediction\n",
    "y_pred = []\n",
    "k = 5\n",
    "for i in range(k+1, len(X)):\n",
    "    rm = X.iloc[:i][['Open', 'High', 'Low', 'Close', 'Volume']].rolling(window=k, center=False).mean()\n",
    "    #print('rm:, ', rm)\n",
    "    x = rm.iloc[-1]\n",
    "    cur = neigh.predict(x.values.reshape(1,-1))\n",
    "    y_pred.extend(cur)"
   ]
  },
  {
   "cell_type": "code",
   "execution_count": 419,
   "metadata": {
    "collapsed": false
   },
   "outputs": [
    {
     "name": "stdout",
     "output_type": "stream",
     "text": [
      "average error: 0.0221128195983\n"
     ]
    }
   ],
   "source": [
    "#generate error and average error\n",
    "y_true = list(y[k+1:])\n",
    "assert len(y_true)==len(y_pred)\n",
    "error = [float('{0:.3g}'.format(np.absolute(i-j)/i)) for (i, j) in zip(y_true,y_pred)]\n",
    "print 'average error:', np.mean(error)"
   ]
  },
  {
   "cell_type": "code",
   "execution_count": 420,
   "metadata": {
    "collapsed": false
   },
   "outputs": [
    {
     "name": "stdout",
     "output_type": "stream",
     "text": [
      "1842 1842\n"
     ]
    }
   ],
   "source": [
    "print len(y_true), len(y_pred)"
   ]
  },
  {
   "cell_type": "code",
   "execution_count": 421,
   "metadata": {
    "collapsed": false
   },
   "outputs": [
    {
     "data": {
      "text/plain": [
       "<function matplotlib.pyplot.show>"
      ]
     },
     "execution_count": 421,
     "metadata": {},
     "output_type": "execute_result"
    },
    {
     "data": {
      "image/png": "[encoded data removed]",
      "text/plain": [
       "<matplotlib.figure.Figure at 0x10cdf2f50>"
      ]
     },
     "metadata": {},
     "output_type": "display_data"
    }
   ],
   "source": [
    "#generate plot for comparison\n",
    "plt.subplot(211)\n",
    "plt.plot(y_true, label=\"true prices\")\n",
    "plt.plot(y_pred, label=\"predicted prices\")\n",
    "plt.ylabel('true/prediction comparison')\n",
    "plt.title(ts)\n",
    "plt.legend(bbox_to_anchor=(1.05, 1), loc=2, borderaxespad=0.)\n",
    "\n",
    "plt.subplot(212)\n",
    "plt.plot([e*100 for e in error], label=\"error percentage\")\n",
    "plt.plot([np.mean(error)*100] * len(error), label=\"average error percentage\")\n",
    "plt.legend(bbox_to_anchor=(1.05, 1), loc=2, borderaxespad=0.)\n",
    "plt.show"
   ]
  },
  {
   "cell_type": "code",
   "execution_count": 336,
   "metadata": {
    "collapsed": true
   },
   "outputs": [],
   "source": [
    "#if we want long-term trend, we need to take into account global financial trend\n",
    "#select features based on correlation"
   ]
  },
  {
   "cell_type": "code",
   "execution_count": 337,
   "metadata": {
    "collapsed": false
   },
   "outputs": [],
   "source": [
    "target_stock['daily_fluctuation'] = 100*(target_stock['High'] - target_stock['Low'])/target_stock['Low']"
   ]
  },
  {
   "cell_type": "code",
   "execution_count": 357,
   "metadata": {
    "collapsed": true
   },
   "outputs": [],
   "source": [
    "def compute_daily_returns(df):\n",
    "    \"\"\"Compute and return the daily return values.\"\"\"\n",
    "    daily_returns = (df/df.shift(1))-1\n",
    "    daily_returns[0] = 0\n",
    "    return daily_returns\n",
    "target_stock['daily_return'] = compute_daily_returns(target_stock['Adj Close'])"
   ]
  },
  {
   "cell_type": "code",
   "execution_count": 373,
   "metadata": {
    "collapsed": true
   },
   "outputs": [],
   "source": [
    "def stock_go_up(close):\n",
    "    go_up = [0]\n",
    "    for i in range(1,len(close)):\n",
    "        cur = close[i]-close[i-1]\n",
    "        if cur > 0:\n",
    "            go_up.append(1)\n",
    "        else:\n",
    "            go_up.append(0)\n",
    "    return go_up\n",
    "target_stock['go_up'] = stock_go_up(target_stock['Adj Close'])        "
   ]
  },
  {
   "cell_type": "code",
   "execution_count": 374,
   "metadata": {
    "collapsed": false
   },
   "outputs": [
    {
     "data": {
      "text/html": [
       "<div>\n",
       "<table border=\"1\" class=\"dataframe\">\n",
       "  <thead>\n",
       "    <tr style=\"text-align: right;\">\n",
       "      <th></th>\n",
       "      <th>Date</th>\n",
       "      <th>Open</th>\n",
       "      <th>High</th>\n",
       "      <th>Low</th>\n",
       "      <th>Close</th>\n",
       "      <th>Volume</th>\n",
       "      <th>Adj Close</th>\n",
       "      <th>daily_fluctuation</th>\n",
       "      <th>daily_return</th>\n",
       "      <th>go_up</th>\n",
       "    </tr>\n",
       "  </thead>\n",
       "  <tbody>\n",
       "    <tr>\n",
       "      <th>0</th>\n",
       "      <td>2012-05-18</td>\n",
       "      <td>42.049999</td>\n",
       "      <td>45.000000</td>\n",
       "      <td>38.000000</td>\n",
       "      <td>38.230000</td>\n",
       "      <td>573576400</td>\n",
       "      <td>38.230000</td>\n",
       "      <td>18.421053</td>\n",
       "      <td>0.000000</td>\n",
       "      <td>0</td>\n",
       "    </tr>\n",
       "    <tr>\n",
       "      <th>1</th>\n",
       "      <td>2012-05-21</td>\n",
       "      <td>36.529999</td>\n",
       "      <td>36.660000</td>\n",
       "      <td>33.000000</td>\n",
       "      <td>34.029999</td>\n",
       "      <td>168192700</td>\n",
       "      <td>34.029999</td>\n",
       "      <td>11.090909</td>\n",
       "      <td>-0.109861</td>\n",
       "      <td>0</td>\n",
       "    </tr>\n",
       "    <tr>\n",
       "      <th>2</th>\n",
       "      <td>2012-05-22</td>\n",
       "      <td>32.610001</td>\n",
       "      <td>33.590000</td>\n",
       "      <td>30.940001</td>\n",
       "      <td>31.000000</td>\n",
       "      <td>101786600</td>\n",
       "      <td>31.000000</td>\n",
       "      <td>8.564961</td>\n",
       "      <td>-0.089039</td>\n",
       "      <td>0</td>\n",
       "    </tr>\n",
       "    <tr>\n",
       "      <th>3</th>\n",
       "      <td>2012-05-23</td>\n",
       "      <td>31.370001</td>\n",
       "      <td>32.500000</td>\n",
       "      <td>31.360001</td>\n",
       "      <td>32.000000</td>\n",
       "      <td>73600000</td>\n",
       "      <td>32.000000</td>\n",
       "      <td>3.635201</td>\n",
       "      <td>0.032258</td>\n",
       "      <td>1</td>\n",
       "    </tr>\n",
       "    <tr>\n",
       "      <th>4</th>\n",
       "      <td>2012-05-24</td>\n",
       "      <td>32.950001</td>\n",
       "      <td>33.209999</td>\n",
       "      <td>31.770000</td>\n",
       "      <td>33.029999</td>\n",
       "      <td>50237200</td>\n",
       "      <td>33.029999</td>\n",
       "      <td>4.532575</td>\n",
       "      <td>0.032187</td>\n",
       "      <td>1</td>\n",
       "    </tr>\n",
       "  </tbody>\n",
       "</table>\n",
       "</div>"
      ],
      "text/plain": [
       "        Date       Open       High        Low      Close     Volume  \\\n",
       "0 2012-05-18  42.049999  45.000000  38.000000  38.230000  573576400   \n",
       "1 2012-05-21  36.529999  36.660000  33.000000  34.029999  168192700   \n",
       "2 2012-05-22  32.610001  33.590000  30.940001  31.000000  101786600   \n",
       "3 2012-05-23  31.370001  32.500000  31.360001  32.000000   73600000   \n",
       "4 2012-05-24  32.950001  33.209999  31.770000  33.029999   50237200   \n",
       "\n",
       "   Adj Close  daily_fluctuation  daily_return  go_up  \n",
       "0  38.230000          18.421053      0.000000      0  \n",
       "1  34.029999          11.090909     -0.109861      0  \n",
       "2  31.000000           8.564961     -0.089039      0  \n",
       "3  32.000000           3.635201      0.032258      1  \n",
       "4  33.029999           4.532575      0.032187      1  "
      ]
     },
     "execution_count": 374,
     "metadata": {},
     "output_type": "execute_result"
    }
   ],
   "source": [
    "target_stock.head()"
   ]
  },
  {
   "cell_type": "code",
   "execution_count": 358,
   "metadata": {
    "collapsed": false
   },
   "outputs": [
    {
     "data": {
      "image/png": "[encoded data removed]",
      "text/plain": [
       "<matplotlib.figure.Figure at 0x1149dab90>"
      ]
     },
     "metadata": {},
     "output_type": "display_data"
    }
   ],
   "source": [
    "#plt.subplot(211)\n",
    "target_stock['daily_return'].plot()\n",
    "plt.show()"
   ]
  },
  {
   "cell_type": "code",
   "execution_count": 339,
   "metadata": {
    "collapsed": true
   },
   "outputs": [],
   "source": [
    "SP500 = data.DataReader('SPY', 'yahoo', start, end)\n",
    "SP500.reset_index(inplace=True,drop=False)"
   ]
  },
  {
   "cell_type": "code",
   "execution_count": 340,
   "metadata": {
    "collapsed": false
   },
   "outputs": [],
   "source": [
    "DowJones = data.DataReader('^DJI', 'yahoo', start, end) #Dow Jones Industrial Average\n",
    "DowJones.reset_index(inplace=True,drop=False)"
   ]
  },
  {
   "cell_type": "code",
   "execution_count": 341,
   "metadata": {
    "collapsed": false
   },
   "outputs": [],
   "source": [
    "ten_yr_bond = data.DataReader('^TNX', 'yahoo', start, end) #10 year bond\n",
    "ten_yr_bond.reset_index(inplace=True,drop=False)"
   ]
  },
  {
   "cell_type": "code",
   "execution_count": 342,
   "metadata": {
    "collapsed": true
   },
   "outputs": [],
   "source": [
    "nikke = data.DataReader('^N225', 'yahoo', start, end) #nikke index\n",
    "nikke.reset_index(inplace=True,drop=False)"
   ]
  },
  {
   "cell_type": "code",
   "execution_count": 343,
   "metadata": {
    "collapsed": false
   },
   "outputs": [],
   "source": [
    "#data.DataReader('HSI', 'yahoo', start, end) #HANG SENG"
   ]
  },
  {
   "cell_type": "code",
   "execution_count": 344,
   "metadata": {
    "collapsed": false
   },
   "outputs": [
    {
     "data": {
      "text/plain": [
       "0.99370927223573657"
      ]
     },
     "execution_count": 344,
     "metadata": {},
     "output_type": "execute_result"
    }
   ],
   "source": [
    "SP500['Adj Close'].corr(DowJones['Adj Close'])"
   ]
  },
  {
   "cell_type": "code",
   "execution_count": 387,
   "metadata": {
    "collapsed": false
   },
   "outputs": [
    {
     "data": {
      "text/plain": [
       "<matplotlib.axes._subplots.AxesSubplot at 0x1106f4950>"
      ]
     },
     "execution_count": 387,
     "metadata": {},
     "output_type": "execute_result"
    },
    {
     "data": {
      "image/png": "[encoded data removed]",
      "text/plain": [
       "<matplotlib.figure.Figure at 0x110c5cf90>"
      ]
     },
     "metadata": {},
     "output_type": "display_data"
    }
   ],
   "source": [
    "#adjusted close plot\n",
    "SP500['Adj Close'].plot(grid=True, figsize=(8, 5))"
   ]
  },
  {
   "cell_type": "code",
   "execution_count": 375,
   "metadata": {
    "collapsed": false
   },
   "outputs": [],
   "source": [
    "#merge market index by dates, calculate their correlation\n",
    "market_trend = pd.merge(SP500[['Date', 'Adj Close']], DowJones[['Date', 'Adj Close']], on='Date')\n",
    "market_trend = pd.merge(market_trend, ten_yr_bond[['Date', 'Adj Close']], on='Date')\n",
    "market_trend = pd.merge(market_trend, nikke[['Date', 'Adj Close']], on='Date')\n",
    "market_trend.columns = ['Date', 'SP500', 'DowJones', 'ten_yr_bond', 'nikke']"
   ]
  },
  {
   "cell_type": "code",
   "execution_count": 348,
   "metadata": {
    "collapsed": true
   },
   "outputs": [],
   "source": [
    "target_stock.reset_index(inplace=True,drop=False)"
   ]
  },
  {
   "cell_type": "code",
   "execution_count": 349,
   "metadata": {
    "collapsed": false
   },
   "outputs": [
    {
     "data": {
      "text/html": [
       "<div>\n",
       "<table border=\"1\" class=\"dataframe\">\n",
       "  <thead>\n",
       "    <tr style=\"text-align: right;\">\n",
       "      <th></th>\n",
       "      <th>Date</th>\n",
       "      <th>Open</th>\n",
       "      <th>High</th>\n",
       "      <th>Low</th>\n",
       "      <th>Close</th>\n",
       "      <th>Volume</th>\n",
       "      <th>Adj Close</th>\n",
       "      <th>daily_fluctuation</th>\n",
       "    </tr>\n",
       "  </thead>\n",
       "  <tbody>\n",
       "    <tr>\n",
       "      <th>1244</th>\n",
       "      <td>2017-05-01</td>\n",
       "      <td>151.740005</td>\n",
       "      <td>152.570007</td>\n",
       "      <td>151.419998</td>\n",
       "      <td>152.460007</td>\n",
       "      <td>25138500</td>\n",
       "      <td>152.460007</td>\n",
       "      <td>0.759483</td>\n",
       "    </tr>\n",
       "    <tr>\n",
       "      <th>1245</th>\n",
       "      <td>2017-05-02</td>\n",
       "      <td>153.339996</td>\n",
       "      <td>153.440002</td>\n",
       "      <td>151.660004</td>\n",
       "      <td>152.779999</td>\n",
       "      <td>21451000</td>\n",
       "      <td>152.779999</td>\n",
       "      <td>1.173677</td>\n",
       "    </tr>\n",
       "    <tr>\n",
       "      <th>1246</th>\n",
       "      <td>2017-05-03</td>\n",
       "      <td>153.600006</td>\n",
       "      <td>153.600006</td>\n",
       "      <td>151.339996</td>\n",
       "      <td>151.800003</td>\n",
       "      <td>24379500</td>\n",
       "      <td>151.800003</td>\n",
       "      <td>1.493333</td>\n",
       "    </tr>\n",
       "    <tr>\n",
       "      <th>1247</th>\n",
       "      <td>2017-05-04</td>\n",
       "      <td>150.169998</td>\n",
       "      <td>151.520004</td>\n",
       "      <td>148.720001</td>\n",
       "      <td>150.850006</td>\n",
       "      <td>36174000</td>\n",
       "      <td>150.850006</td>\n",
       "      <td>1.882735</td>\n",
       "    </tr>\n",
       "    <tr>\n",
       "      <th>1248</th>\n",
       "      <td>2017-05-05</td>\n",
       "      <td>151.449997</td>\n",
       "      <td>151.630005</td>\n",
       "      <td>149.789993</td>\n",
       "      <td>150.240005</td>\n",
       "      <td>17051500</td>\n",
       "      <td>150.240005</td>\n",
       "      <td>1.228394</td>\n",
       "    </tr>\n",
       "  </tbody>\n",
       "</table>\n",
       "</div>"
      ],
      "text/plain": [
       "           Date        Open        High         Low       Close    Volume  \\\n",
       "1244 2017-05-01  151.740005  152.570007  151.419998  152.460007  25138500   \n",
       "1245 2017-05-02  153.339996  153.440002  151.660004  152.779999  21451000   \n",
       "1246 2017-05-03  153.600006  153.600006  151.339996  151.800003  24379500   \n",
       "1247 2017-05-04  150.169998  151.520004  148.720001  150.850006  36174000   \n",
       "1248 2017-05-05  151.449997  151.630005  149.789993  150.240005  17051500   \n",
       "\n",
       "       Adj Close  daily_fluctuation  \n",
       "1244  152.460007           0.759483  \n",
       "1245  152.779999           1.173677  \n",
       "1246  151.800003           1.493333  \n",
       "1247  150.850006           1.882735  \n",
       "1248  150.240005           1.228394  "
      ]
     },
     "execution_count": 349,
     "metadata": {},
     "output_type": "execute_result"
    }
   ],
   "source": [
    "target_stock.tail()"
   ]
  },
  {
   "cell_type": "code",
   "execution_count": 350,
   "metadata": {
    "collapsed": false
   },
   "outputs": [
    {
     "data": {
      "text/html": [
       "<div>\n",
       "<table border=\"1\" class=\"dataframe\">\n",
       "  <thead>\n",
       "    <tr style=\"text-align: right;\">\n",
       "      <th></th>\n",
       "      <th>Date</th>\n",
       "      <th>SP500</th>\n",
       "      <th>DowJones</th>\n",
       "      <th>ten_yr_bond</th>\n",
       "      <th>nikke</th>\n",
       "    </tr>\n",
       "  </thead>\n",
       "  <tbody>\n",
       "    <tr>\n",
       "      <th>0</th>\n",
       "      <td>2010-01-04</td>\n",
       "      <td>97.788948</td>\n",
       "      <td>10583.959961</td>\n",
       "      <td>3.841</td>\n",
       "      <td>10654.790039</td>\n",
       "    </tr>\n",
       "    <tr>\n",
       "      <th>1</th>\n",
       "      <td>2010-01-05</td>\n",
       "      <td>98.047805</td>\n",
       "      <td>10572.019531</td>\n",
       "      <td>3.755</td>\n",
       "      <td>10681.830078</td>\n",
       "    </tr>\n",
       "    <tr>\n",
       "      <th>2</th>\n",
       "      <td>2010-01-06</td>\n",
       "      <td>98.116836</td>\n",
       "      <td>10573.679688</td>\n",
       "      <td>3.808</td>\n",
       "      <td>10731.450195</td>\n",
       "    </tr>\n",
       "    <tr>\n",
       "      <th>3</th>\n",
       "      <td>2010-01-07</td>\n",
       "      <td>98.531016</td>\n",
       "      <td>10606.860352</td>\n",
       "      <td>3.822</td>\n",
       "      <td>10681.660156</td>\n",
       "    </tr>\n",
       "    <tr>\n",
       "      <th>4</th>\n",
       "      <td>2010-01-08</td>\n",
       "      <td>98.858904</td>\n",
       "      <td>10618.190430</td>\n",
       "      <td>3.808</td>\n",
       "      <td>10798.320312</td>\n",
       "    </tr>\n",
       "  </tbody>\n",
       "</table>\n",
       "</div>"
      ],
      "text/plain": [
       "        Date      SP500      DowJones  ten_yr_bond         nikke\n",
       "0 2010-01-04  97.788948  10583.959961        3.841  10654.790039\n",
       "1 2010-01-05  98.047805  10572.019531        3.755  10681.830078\n",
       "2 2010-01-06  98.116836  10573.679688        3.808  10731.450195\n",
       "3 2010-01-07  98.531016  10606.860352        3.822  10681.660156\n",
       "4 2010-01-08  98.858904  10618.190430        3.808  10798.320312"
      ]
     },
     "execution_count": 350,
     "metadata": {},
     "output_type": "execute_result"
    }
   ],
   "source": [
    "market_trend.head()"
   ]
  },
  {
   "cell_type": "code",
   "execution_count": 351,
   "metadata": {
    "collapsed": false
   },
   "outputs": [
    {
     "data": {
      "text/html": [
       "<div>\n",
       "<table border=\"1\" class=\"dataframe\">\n",
       "  <thead>\n",
       "    <tr style=\"text-align: right;\">\n",
       "      <th></th>\n",
       "      <th>SP500</th>\n",
       "      <th>DowJones</th>\n",
       "      <th>ten_yr_bond</th>\n",
       "      <th>nikke</th>\n",
       "    </tr>\n",
       "  </thead>\n",
       "  <tbody>\n",
       "    <tr>\n",
       "      <th>SP500</th>\n",
       "      <td>1.000000</td>\n",
       "      <td>0.993728</td>\n",
       "      <td>-0.389822</td>\n",
       "      <td>0.935202</td>\n",
       "    </tr>\n",
       "    <tr>\n",
       "      <th>DowJones</th>\n",
       "      <td>0.993728</td>\n",
       "      <td>1.000000</td>\n",
       "      <td>-0.393801</td>\n",
       "      <td>0.918477</td>\n",
       "    </tr>\n",
       "    <tr>\n",
       "      <th>ten_yr_bond</th>\n",
       "      <td>-0.389822</td>\n",
       "      <td>-0.393801</td>\n",
       "      <td>1.000000</td>\n",
       "      <td>-0.199054</td>\n",
       "    </tr>\n",
       "    <tr>\n",
       "      <th>nikke</th>\n",
       "      <td>0.935202</td>\n",
       "      <td>0.918477</td>\n",
       "      <td>-0.199054</td>\n",
       "      <td>1.000000</td>\n",
       "    </tr>\n",
       "  </tbody>\n",
       "</table>\n",
       "</div>"
      ],
      "text/plain": [
       "                SP500  DowJones  ten_yr_bond     nikke\n",
       "SP500        1.000000  0.993728    -0.389822  0.935202\n",
       "DowJones     0.993728  1.000000    -0.393801  0.918477\n",
       "ten_yr_bond -0.389822 -0.393801     1.000000 -0.199054\n",
       "nikke        0.935202  0.918477    -0.199054  1.000000"
      ]
     },
     "execution_count": 351,
     "metadata": {},
     "output_type": "execute_result"
    }
   ],
   "source": [
    "market_trend[['SP500', 'DowJones', 'ten_yr_bond', 'nikke']].corr()"
   ]
  },
  {
   "cell_type": "code",
   "execution_count": 376,
   "metadata": {
    "collapsed": true
   },
   "outputs": [],
   "source": [
    "#according to the correlation table, we pick SP500 and ten_yr_bond as our market trend\n",
    "merged_df = pd.merge(target_stock, market_trend[['Date', 'SP500','ten_yr_bond']], on='Date')"
   ]
  },
  {
   "cell_type": "code",
   "execution_count": 377,
   "metadata": {
    "collapsed": false
   },
   "outputs": [
    {
     "data": {
      "text/html": [
       "<div>\n",
       "<table border=\"1\" class=\"dataframe\">\n",
       "  <thead>\n",
       "    <tr style=\"text-align: right;\">\n",
       "      <th></th>\n",
       "      <th>Date</th>\n",
       "      <th>Open</th>\n",
       "      <th>High</th>\n",
       "      <th>Low</th>\n",
       "      <th>Close</th>\n",
       "      <th>Volume</th>\n",
       "      <th>Adj Close</th>\n",
       "      <th>daily_fluctuation</th>\n",
       "      <th>daily_return</th>\n",
       "      <th>go_up</th>\n",
       "      <th>SP500</th>\n",
       "      <th>ten_yr_bond</th>\n",
       "    </tr>\n",
       "  </thead>\n",
       "  <tbody>\n",
       "    <tr>\n",
       "      <th>1185</th>\n",
       "      <td>2017-04-26</td>\n",
       "      <td>147.089996</td>\n",
       "      <td>147.589996</td>\n",
       "      <td>146.089996</td>\n",
       "      <td>146.559998</td>\n",
       "      <td>11378000</td>\n",
       "      <td>146.559998</td>\n",
       "      <td>1.026764</td>\n",
       "      <td>0.000478</td>\n",
       "      <td>1</td>\n",
       "      <td>238.399994</td>\n",
       "      <td>2.311</td>\n",
       "    </tr>\n",
       "    <tr>\n",
       "      <th>1186</th>\n",
       "      <td>2017-04-27</td>\n",
       "      <td>146.669998</td>\n",
       "      <td>147.750000</td>\n",
       "      <td>146.139999</td>\n",
       "      <td>147.699997</td>\n",
       "      <td>10882600</td>\n",
       "      <td>147.699997</td>\n",
       "      <td>1.101684</td>\n",
       "      <td>0.007778</td>\n",
       "      <td>1</td>\n",
       "      <td>238.600006</td>\n",
       "      <td>2.296</td>\n",
       "    </tr>\n",
       "    <tr>\n",
       "      <th>1187</th>\n",
       "      <td>2017-04-28</td>\n",
       "      <td>149.500000</td>\n",
       "      <td>151.529999</td>\n",
       "      <td>149.070007</td>\n",
       "      <td>150.250000</td>\n",
       "      <td>30568000</td>\n",
       "      <td>150.250000</td>\n",
       "      <td>1.650226</td>\n",
       "      <td>0.017265</td>\n",
       "      <td>1</td>\n",
       "      <td>238.080002</td>\n",
       "      <td>2.282</td>\n",
       "    </tr>\n",
       "    <tr>\n",
       "      <th>1188</th>\n",
       "      <td>2017-05-01</td>\n",
       "      <td>151.740005</td>\n",
       "      <td>152.570007</td>\n",
       "      <td>151.419998</td>\n",
       "      <td>152.460007</td>\n",
       "      <td>25138500</td>\n",
       "      <td>152.460007</td>\n",
       "      <td>0.759483</td>\n",
       "      <td>0.014709</td>\n",
       "      <td>1</td>\n",
       "      <td>238.679993</td>\n",
       "      <td>2.325</td>\n",
       "    </tr>\n",
       "    <tr>\n",
       "      <th>1189</th>\n",
       "      <td>2017-05-02</td>\n",
       "      <td>153.339996</td>\n",
       "      <td>153.440002</td>\n",
       "      <td>151.660004</td>\n",
       "      <td>152.779999</td>\n",
       "      <td>21451000</td>\n",
       "      <td>152.779999</td>\n",
       "      <td>1.173677</td>\n",
       "      <td>0.002099</td>\n",
       "      <td>1</td>\n",
       "      <td>238.770004</td>\n",
       "      <td>2.296</td>\n",
       "    </tr>\n",
       "  </tbody>\n",
       "</table>\n",
       "</div>"
      ],
      "text/plain": [
       "           Date        Open        High         Low       Close    Volume  \\\n",
       "1185 2017-04-26  147.089996  147.589996  146.089996  146.559998  11378000   \n",
       "1186 2017-04-27  146.669998  147.750000  146.139999  147.699997  10882600   \n",
       "1187 2017-04-28  149.500000  151.529999  149.070007  150.250000  30568000   \n",
       "1188 2017-05-01  151.740005  152.570007  151.419998  152.460007  25138500   \n",
       "1189 2017-05-02  153.339996  153.440002  151.660004  152.779999  21451000   \n",
       "\n",
       "       Adj Close  daily_fluctuation  daily_return  go_up       SP500  \\\n",
       "1185  146.559998           1.026764      0.000478      1  238.399994   \n",
       "1186  147.699997           1.101684      0.007778      1  238.600006   \n",
       "1187  150.250000           1.650226      0.017265      1  238.080002   \n",
       "1188  152.460007           0.759483      0.014709      1  238.679993   \n",
       "1189  152.779999           1.173677      0.002099      1  238.770004   \n",
       "\n",
       "      ten_yr_bond  \n",
       "1185        2.311  \n",
       "1186        2.296  \n",
       "1187        2.282  \n",
       "1188        2.325  \n",
       "1189        2.296  "
      ]
     },
     "execution_count": 377,
     "metadata": {},
     "output_type": "execute_result"
    }
   ],
   "source": [
    "merged_df.tail()"
   ]
  },
  {
   "cell_type": "code",
   "execution_count": 354,
   "metadata": {
    "collapsed": true
   },
   "outputs": [],
   "source": [
    "merged_df['SP500'] /= merged_df['SP500'][0]\n",
    "merged_df['ten_yr_bond'] /= merged_df['ten_yr_bond'][0]"
   ]
  },
  {
   "cell_type": "code",
   "execution_count": 355,
   "metadata": {
    "collapsed": false
   },
   "outputs": [
    {
     "data": {
      "text/html": [
       "<div>\n",
       "<table border=\"1\" class=\"dataframe\">\n",
       "  <thead>\n",
       "    <tr style=\"text-align: right;\">\n",
       "      <th></th>\n",
       "      <th>Date</th>\n",
       "      <th>Open</th>\n",
       "      <th>High</th>\n",
       "      <th>Low</th>\n",
       "      <th>Close</th>\n",
       "      <th>Volume</th>\n",
       "      <th>Adj Close</th>\n",
       "      <th>daily_fluctuation</th>\n",
       "      <th>SP500</th>\n",
       "      <th>ten_yr_bond</th>\n",
       "    </tr>\n",
       "  </thead>\n",
       "  <tbody>\n",
       "    <tr>\n",
       "      <th>1185</th>\n",
       "      <td>2017-04-26</td>\n",
       "      <td>147.089996</td>\n",
       "      <td>147.589996</td>\n",
       "      <td>146.089996</td>\n",
       "      <td>146.559998</td>\n",
       "      <td>11378000</td>\n",
       "      <td>146.559998</td>\n",
       "      <td>1.026764</td>\n",
       "      <td>2.036706</td>\n",
       "      <td>1.357814</td>\n",
       "    </tr>\n",
       "    <tr>\n",
       "      <th>1186</th>\n",
       "      <td>2017-04-27</td>\n",
       "      <td>146.669998</td>\n",
       "      <td>147.750000</td>\n",
       "      <td>146.139999</td>\n",
       "      <td>147.699997</td>\n",
       "      <td>10882600</td>\n",
       "      <td>147.699997</td>\n",
       "      <td>1.101684</td>\n",
       "      <td>2.038415</td>\n",
       "      <td>1.349001</td>\n",
       "    </tr>\n",
       "    <tr>\n",
       "      <th>1187</th>\n",
       "      <td>2017-04-28</td>\n",
       "      <td>149.500000</td>\n",
       "      <td>151.529999</td>\n",
       "      <td>149.070007</td>\n",
       "      <td>150.250000</td>\n",
       "      <td>30568000</td>\n",
       "      <td>150.250000</td>\n",
       "      <td>1.650226</td>\n",
       "      <td>2.033972</td>\n",
       "      <td>1.340776</td>\n",
       "    </tr>\n",
       "    <tr>\n",
       "      <th>1188</th>\n",
       "      <td>2017-05-01</td>\n",
       "      <td>151.740005</td>\n",
       "      <td>152.570007</td>\n",
       "      <td>151.419998</td>\n",
       "      <td>152.460007</td>\n",
       "      <td>25138500</td>\n",
       "      <td>152.460007</td>\n",
       "      <td>0.759483</td>\n",
       "      <td>2.039098</td>\n",
       "      <td>1.366040</td>\n",
       "    </tr>\n",
       "    <tr>\n",
       "      <th>1189</th>\n",
       "      <td>2017-05-02</td>\n",
       "      <td>153.339996</td>\n",
       "      <td>153.440002</td>\n",
       "      <td>151.660004</td>\n",
       "      <td>152.779999</td>\n",
       "      <td>21451000</td>\n",
       "      <td>152.779999</td>\n",
       "      <td>1.173677</td>\n",
       "      <td>2.039867</td>\n",
       "      <td>1.349001</td>\n",
       "    </tr>\n",
       "  </tbody>\n",
       "</table>\n",
       "</div>"
      ],
      "text/plain": [
       "           Date        Open        High         Low       Close    Volume  \\\n",
       "1185 2017-04-26  147.089996  147.589996  146.089996  146.559998  11378000   \n",
       "1186 2017-04-27  146.669998  147.750000  146.139999  147.699997  10882600   \n",
       "1187 2017-04-28  149.500000  151.529999  149.070007  150.250000  30568000   \n",
       "1188 2017-05-01  151.740005  152.570007  151.419998  152.460007  25138500   \n",
       "1189 2017-05-02  153.339996  153.440002  151.660004  152.779999  21451000   \n",
       "\n",
       "       Adj Close  daily_fluctuation     SP500  ten_yr_bond  \n",
       "1185  146.559998           1.026764  2.036706     1.357814  \n",
       "1186  147.699997           1.101684  2.038415     1.349001  \n",
       "1187  150.250000           1.650226  2.033972     1.340776  \n",
       "1188  152.460007           0.759483  2.039098     1.366040  \n",
       "1189  152.779999           1.173677  2.039867     1.349001  "
      ]
     },
     "execution_count": 355,
     "metadata": {},
     "output_type": "execute_result"
    }
   ],
   "source": [
    "merged_df.tail()"
   ]
  },
  {
   "cell_type": "code",
   "execution_count": 386,
   "metadata": {
    "collapsed": false
   },
   "outputs": [
    {
     "name": "stdout",
     "output_type": "stream",
     "text": [
      "('training and testing size: ', 833, 357)\n",
      "('Coefficients: \\n', array([  9.91263260e-01,  -6.71219232e-09,   1.68381388e+01,\n",
      "         9.89346886e-02,   7.41029234e-01,   8.25727699e-03,\n",
      "         4.99013034e-02]))\n",
      "Mean squared error: 1.05\n",
      "Variance score: 0.99\n"
     ]
    },
    {
     "data": {
      "image/png": "[encoded data removed]",
      "text/plain": [
       "<matplotlib.figure.Figure at 0x1149669d0>"
      ]
     },
     "metadata": {},
     "output_type": "display_data"
    }
   ],
   "source": [
    "#linear regression do too well?\n",
    "from sklearn.linear_model import LinearRegression\n",
    "regr = LinearRegression()\n",
    "\n",
    "#SVM regression model\n",
    "from sklearn.svm import SVR\n",
    "clf = SVR(C=1.0, epsilon=0.2)\n",
    "\n",
    "training_size = int(len(merged_df)*0.7)\n",
    "print('training and testing size: ', training_size, len(merged_df) - training_size)\n",
    "test_size = len(merged_df) - training_size\n",
    "features = merged_df[['Open', 'Volume','daily_return','daily_fluctuation','go_up', 'SP500','ten_yr_bond']]\n",
    "X_train = features.iloc[:training_size]\n",
    "y_train = merged_df['Adj Close'].iloc[:training_size]\n",
    "X_test = features.iloc[-test_size:]\n",
    "y_test = merged_df['Adj Close'].iloc[-test_size:]\n",
    "assert len(X_train) == len(y_train)\n",
    "assert len(X_test) == len(y_test)\n",
    "#print(X_test.head(), y_test.head())\n",
    "\n",
    "#train the model\n",
    "regr.fit(X_train, y_train)\n",
    "#make prediction\n",
    "y_pred = regr.predict(X_test)\n",
    "print('Coefficients: \\n', regr.coef_)\n",
    "# The mean squared error\n",
    "print(\"Mean squared error: %.2f\" % np.mean((y_pred - y_test) ** 2))\n",
    "# Explained variance score: 1 is perfect prediction\n",
    "print('Variance score: %.2f' % regr.score(X_test, y_test))\n",
    "# Plot outputs\n",
    "plt.subplot(211)\n",
    "plt.title(ts)\n",
    "#y_test.plot(color='black',label='true prices')\n",
    "#pd.Series(y_pred).plot(color='blue', label='prediction')\n",
    "plt.plot(list(y_test), color='black',label='true prices')\n",
    "plt.plot(list(y_pred), color='blue', label='prediction')\n",
    "plt.legend(bbox_to_anchor=(1.05, 1), loc=2, borderaxespad=0.)\n",
    "plt.show()\n"
   ]
  },
  {
   "cell_type": "code",
   "execution_count": null,
   "metadata": {
    "collapsed": true
   },
   "outputs": [],
   "source": []
  },
  {
   "cell_type": "code",
   "execution_count": null,
   "metadata": {
    "collapsed": false
   },
   "outputs": [],
   "source": [
    "diff = [float('{0:.3g}'.format(np.absolute(i-j)/i)) for (i, j) in zip(y_pred, y_test)]\n",
    "max(diff)"
   ]
  },
  {
   "cell_type": "code",
   "execution_count": 370,
   "metadata": {
    "collapsed": true
   },
   "outputs": [],
   "source": [
    "def forward_kfold(fold, features, target, clf):\n",
    "    num_fold = (len(merged_df)-120)/20\n",
    "    mse = []\n",
    "    r2 = []\n",
    "    for i in range(num_fold):\n",
    "        X_train = features.iloc[i*20:i*20+fold]\n",
    "        y_train = target.iloc[i*20:i*20+fold]\n",
    "        X_test = features.iloc[i*20+fold:(i+1)*20+fold]\n",
    "        y_test = target.iloc[i*20+fold:(i+1)*20+fold]\n",
    "        clf.fit(X_train, y_train)\n",
    "        #make prediction\n",
    "        y_pred = clf.predict(X_test)\n",
    "        #print('Coefficients: \\n', clf.coef_)\n",
    "        # The mean squared error\n",
    "        mse.append(np.mean((y_pred - y_test) ** 2))\n",
    "        r2.append(clf.score(X_test, y_test))\n",
    "    return mse, r2\n",
    "    "
   ]
  },
  {
   "cell_type": "code",
   "execution_count": null,
   "metadata": {
    "collapsed": false
   },
   "outputs": [],
   "source": [
    "fold = 120 #take about 6 months as a fold, try to predict the next 5 days/10 days/20 trading days later, respectively\n",
    "        # a week, two week and a month\n",
    "clf = LinearRegression()\n",
    "target = merged_df['Adj Close']\n",
    "mse, r2 = forward_kfold(fold, features, target, clf)"
   ]
  },
  {
   "cell_type": "code",
   "execution_count": null,
   "metadata": {
    "collapsed": true
   },
   "outputs": [],
   "source": [
    "mse, r2 = forward_kfold(fold, features, target, clf)"
   ]
  },
  {
   "cell_type": "code",
   "execution_count": null,
   "metadata": {
    "collapsed": false
   },
   "outputs": [],
   "source": []
  },
  {
   "cell_type": "code",
   "execution_count": null,
   "metadata": {
    "collapsed": false
   },
   "outputs": [],
   "source": []
  },
  {
   "cell_type": "code",
   "execution_count": null,
   "metadata": {
    "collapsed": true
   },
   "outputs": [],
   "source": [
    "# calculate beta\n",
    "# beta = cov(stock's % daily change, index's % daily change)/var(index's %daily change)\n",
    "#reference: https://www.fool.com/knowledge-center/how-to-calculate-the-beta-coefficient-for-a-single.aspx\n",
    "def beta(sdc, idc)\n",
    "    \"\"\"\n",
    "    sdc: stock's % daily change\n",
    "    idc: index's % daily change\n",
    "    return: beta of the stock, a measure of volatility\n",
    "    \"\"\"\n",
    "    return np.cov(sdc, idc)/np.var(idc, idc)\n"
   ]
  },
  {
   "cell_type": "code",
   "execution_count": null,
   "metadata": {
    "collapsed": true
   },
   "outputs": [],
   "source": [
    "#trend strategy\n",
    "SP500['42d'] = np.round(SP500['Adj Close'].rolling(window=42, center=False).mean(), 2)\n",
    "sp500['252d'] = np.round(sp500['Adj Close'].rolling(window=252, center=False).mean(), 2)"
   ]
  },
  {
   "cell_type": "code",
   "execution_count": null,
   "metadata": {
    "collapsed": true
   },
   "outputs": [],
   "source": [
    "tech_cp = ['GOOG', 'FB', 'AMZN', 'AAPL','TSLA','MSFT', 'YHOO']"
   ]
  },
  {
   "cell_type": "code",
   "execution_count": 390,
   "metadata": {
    "collapsed": false
   },
   "outputs": [
    {
     "data": {
      "text/plain": [
       "datetime.date(2017, 5, 8)"
      ]
     },
     "execution_count": 390,
     "metadata": {},
     "output_type": "execute_result"
    }
   ],
   "source": [
    "import time\n",
    "from datetime import date\n",
    "today = date.today()\n",
    "today"
   ]
  },
  {
   "cell_type": "code",
   "execution_count": 399,
   "metadata": {
    "collapsed": true
   },
   "outputs": [],
   "source": [
    "from sklearn import svm\n",
    "clf = svm.SVC()\n",
    "start = '2012-01-01'\n",
    "end = today\n",
    "google = data.DataReader('GOOG', 'yahoo', start, end)\n",
    "facebook = data.DataReader('FB', 'yahoo', start, end)\n",
    "amazon = data.DataReader('AMZN', 'yahoo', start, end)\n",
    "apple = data.DataReader('AAPL', 'yahoo', start, end)\n",
    "tesla = data.DataReader('TSLA', 'yahoo', start, end)\n",
    "microsoft = data.DataReader('MSFT', 'yahoo', start, end)"
   ]
  },
  {
   "cell_type": "code",
   "execution_count": 406,
   "metadata": {
    "collapsed": true
   },
   "outputs": [],
   "source": [
    "six = pd.concat([google['Adj Close'], facebook['Adj Close'], amazon['Adj Close'], apple['Adj Close'],\n",
    "                tesla['Adj Close'], microsoft['Adj Close']], axis=1)"
   ]
  },
  {
   "cell_type": "code",
   "execution_count": 409,
   "metadata": {
    "collapsed": false
   },
   "outputs": [],
   "source": [
    "six.columns=[\"GOOG\", \"FB\", 'AMZN','AAPL','TSLA', 'MSFT']"
   ]
  },
  {
   "cell_type": "code",
   "execution_count": 411,
   "metadata": {
    "collapsed": false
   },
   "outputs": [
    {
     "data": {
      "text/plain": [
       "<matplotlib.axes._subplots.AxesSubplot at 0x11099afd0>"
      ]
     },
     "execution_count": 411,
     "metadata": {},
     "output_type": "execute_result"
    },
    {
     "data": {
      "image/png": "[encoded data removed]",
      "text/plain": [
       "<matplotlib.figure.Figure at 0x11110a410>"
      ]
     },
     "metadata": {},
     "output_type": "display_data"
    }
   ],
   "source": [
    "six .plot(grid=True, figsize=(8, 5), title = 'Adjusted Close Prices of Six Companies')"
   ]
  },
  {
   "cell_type": "code",
   "execution_count": null,
   "metadata": {
    "collapsed": true
   },
   "outputs": [],
   "source": []
  },
  {
   "cell_type": "code",
   "execution_count": 423,
   "metadata": {
    "collapsed": false
   },
   "outputs": [],
   "source": [
    "def normalize_data(df):\n",
    "    \"\"\"Normalize stock prices so they all start at 1\"\"\"\n",
    "    return df/df.ix[0,:]\n",
    "normalized_six = normalize_data(six)"
   ]
  },
  {
   "cell_type": "code",
   "execution_count": 425,
   "metadata": {
    "collapsed": false
   },
   "outputs": [
    {
     "data": {
      "text/html": [
       "<div>\n",
       "<table border=\"1\" class=\"dataframe\">\n",
       "  <thead>\n",
       "    <tr style=\"text-align: right;\">\n",
       "      <th></th>\n",
       "      <th>GOOG</th>\n",
       "      <th>FB</th>\n",
       "      <th>AMZN</th>\n",
       "      <th>AAPL</th>\n",
       "      <th>TSLA</th>\n",
       "      <th>MSFT</th>\n",
       "    </tr>\n",
       "    <tr>\n",
       "      <th>Date</th>\n",
       "      <th></th>\n",
       "      <th></th>\n",
       "      <th></th>\n",
       "      <th></th>\n",
       "      <th></th>\n",
       "      <th></th>\n",
       "    </tr>\n",
       "  </thead>\n",
       "  <tbody>\n",
       "    <tr>\n",
       "      <th>2017-05-01</th>\n",
       "      <td>2.745619</td>\n",
       "      <td>NaN</td>\n",
       "      <td>5.296487</td>\n",
       "      <td>2.751189</td>\n",
       "      <td>11.496794</td>\n",
       "      <td>2.996475</td>\n",
       "    </tr>\n",
       "    <tr>\n",
       "      <th>2017-05-02</th>\n",
       "      <td>2.757262</td>\n",
       "      <td>NaN</td>\n",
       "      <td>5.289281</td>\n",
       "      <td>2.768645</td>\n",
       "      <td>11.356482</td>\n",
       "      <td>2.991726</td>\n",
       "    </tr>\n",
       "    <tr>\n",
       "      <th>2017-05-03</th>\n",
       "      <td>2.789154</td>\n",
       "      <td>NaN</td>\n",
       "      <td>5.256270</td>\n",
       "      <td>2.760199</td>\n",
       "      <td>11.076210</td>\n",
       "      <td>2.982228</td>\n",
       "    </tr>\n",
       "    <tr>\n",
       "      <th>2017-05-04</th>\n",
       "      <td>2.803054</td>\n",
       "      <td>NaN</td>\n",
       "      <td>5.236720</td>\n",
       "      <td>2.750251</td>\n",
       "      <td>10.522079</td>\n",
       "      <td>2.970572</td>\n",
       "    </tr>\n",
       "    <tr>\n",
       "      <th>2017-05-05</th>\n",
       "      <td>2.789425</td>\n",
       "      <td>NaN</td>\n",
       "      <td>5.217841</td>\n",
       "      <td>2.795860</td>\n",
       "      <td>10.981126</td>\n",
       "      <td>2.978775</td>\n",
       "    </tr>\n",
       "  </tbody>\n",
       "</table>\n",
       "</div>"
      ],
      "text/plain": [
       "                GOOG  FB      AMZN      AAPL       TSLA      MSFT\n",
       "Date                                                             \n",
       "2017-05-01  2.745619 NaN  5.296487  2.751189  11.496794  2.996475\n",
       "2017-05-02  2.757262 NaN  5.289281  2.768645  11.356482  2.991726\n",
       "2017-05-03  2.789154 NaN  5.256270  2.760199  11.076210  2.982228\n",
       "2017-05-04  2.803054 NaN  5.236720  2.750251  10.522079  2.970572\n",
       "2017-05-05  2.789425 NaN  5.217841  2.795860  10.981126  2.978775"
      ]
     },
     "execution_count": 425,
     "metadata": {},
     "output_type": "execute_result"
    }
   ],
   "source": [
    "normalized_six.tail()"
   ]
  },
  {
   "cell_type": "code",
   "execution_count": 424,
   "metadata": {
    "collapsed": false
   },
   "outputs": [
    {
     "data": {
      "text/plain": [
       "<matplotlib.axes._subplots.AxesSubplot at 0x11042f7d0>"
      ]
     },
     "execution_count": 424,
     "metadata": {},
     "output_type": "execute_result"
    },
    {
     "data": {
      "image/png": "[encoded data removed]",
      "text/plain": [
       "<matplotlib.figure.Figure at 0x1101df850>"
      ]
     },
     "metadata": {},
     "output_type": "display_data"
    }
   ],
   "source": [
    "normalized_six.plot(grid=True, figsize=(8, 5), title = 'Normalized Adjusted Close Prices of Six Companies')"
   ]
  }
 ],
 "metadata": {
  "kernelspec": {
   "display_name": "Python 2",
   "language": "python",
   "name": "python2"
  },
  "language_info": {
   "codemirror_mode": {
    "name": "ipython",
    "version": 2
   },
   "file_extension": ".py",
   "mimetype": "text/x-python",
   "name": "python",
   "nbconvert_exporter": "python",
   "pygments_lexer": "ipython2",
   "version": "2.7.13"
  }
 },
 "nbformat": 4,
 "nbformat_minor": 2
}
